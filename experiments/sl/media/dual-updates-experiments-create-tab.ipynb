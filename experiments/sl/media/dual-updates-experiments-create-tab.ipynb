{
 "cells": [
  {
   "cell_type": "markdown",
   "id": "2939bf0c-0dfc-473b-ab5a-6345365bdfb4",
   "metadata": {},
   "source": [
    "# Create tables/figures for dual update experiments in ICLR submission\n",
    "In this notebook we'll create the tables and figures for the dual updates experiments in the ICRL paper. We logged runs using W&B which were run with:\n",
    "```sh\n",
    "python dual_updates.py -m ++wandb.use_wandb=True +experiment=airfoil_dual_updates,boston_dual_updates,protein_dual_updates ++random_seed=42,10,48,412,46392 hydra/launcher=lumi_30mins\n",
    "```\n",
    "\n",
    "This submits 5x seeds for each of the 3 UCI data sets (Airfoil/Boston/Protein). Each job logs time to train on $\\mathcal{D}_1$, time to retrain on $\\mathcal{D}_1 \\cup \\mathcal{D}_2$, time to perform dual updates with $\\mathcal{D}_2$, the NLPD after retraining from scratch and the NLPD after performing dual updates."
   ]
  },
  {
   "cell_type": "code",
   "execution_count": 1,
   "id": "dc9b1a6b",
   "metadata": {},
   "outputs": [
    {
     "name": "stderr",
     "output_type": "stream",
     "text": [
      "/var/folders/m7/4s90cb416f5gppt52n88ddn80000gp/T/ipykernel_58612/1555897191.py:1: DeprecationWarning: \n",
      "Pyarrow will become a required dependency of pandas in the next major release of pandas (pandas 3.0),\n",
      "(to allow more performant data types, such as the Arrow string type, and better interoperability with other libraries)\n",
      "but was not found to be installed on your system.\n",
      "If this would cause problems for you,\n",
      "please provide us feedback at https://github.com/pandas-dev/pandas/issues/54466\n",
      "        \n",
      "  import pandas as pd\n"
     ]
    }
   ],
   "source": [
    "import pandas as pd\n",
    "import wandb"
   ]
  },
  {
   "cell_type": "markdown",
   "id": "54eb5677-7a95-4637-ae38-61d03f027c15",
   "metadata": {},
   "source": [
    "## Load data\n",
    "\n",
    "Either download the runs from W&B (and save as csv) or load data from a csv."
   ]
  },
  {
   "cell_type": "code",
   "execution_count": 2,
   "id": "30762498-4e5a-4672-b44d-862175b7cde8",
   "metadata": {},
   "outputs": [],
   "source": [
    "download_runs = False"
   ]
  },
  {
   "cell_type": "code",
   "execution_count": 3,
   "id": "b585c163-2d3d-48ec-8aa9-1e1072784595",
   "metadata": {},
   "outputs": [],
   "source": [
    "WANDB_ENTITY = \"aalto-ml\"\n",
    "WANDB_PROJECT = \"sl-fast-updates\""
   ]
  },
  {
   "cell_type": "code",
   "execution_count": 4,
   "id": "bbd964e4-ff3a-4ee0-b556-d4ef4e9d36a6",
   "metadata": {},
   "outputs": [],
   "source": [
    "# After reverting to before break (so from new-main branch)\n",
    "WANDB_RUNS = [\n",
    "    # Boston\n",
    "    \"tcda79gx\", # seed=42\n",
    "    \"ysw1s7pv\", # seed=10\n",
    "    \"6yy0k2h7\", # seed=48\n",
    "    \"mrw720qv\", # seed=412\n",
    "    \"i23ept1c\", # seed=46392\n",
    "    # Airfoil\n",
    "    \"uwibbgre\", # seed=42\n",
    "    \"8cq742an\", # seed=10\n",
    "    \"823psd1g\", # seed=48\n",
    "    \"hb8bfn4b\", # seed=412\n",
    "    \"8guyubn8\", # seed=46392\n",
    "    # Protein\n",
    "    \"kya84v8f\", # seed=42\n",
    "    \"qiyhp2yx\", # seed=10\n",
    "    \"8sxhb0cw\", # seed=48\n",
    "    \"qhzqrykg\", # seed=412\n",
    "    \"tn880e9t\", # seed=46392\n",
    "]"
   ]
  },
  {
   "cell_type": "code",
   "execution_count": 5,
   "id": "eb66c1ee-afa9-4531-9996-5e8256f26a9a",
   "metadata": {},
   "outputs": [],
   "source": [
    "save_path: str = \"./csv/dual-updates.csv\"\n",
    "\n",
    "if download_runs:\n",
    "    df = save_wandb_runs_as_csv(save_path=save_path)\n",
    "else:\n",
    "    df = pd.read_csv(save_path)"
   ]
  },
  {
   "cell_type": "markdown",
   "id": "8af19086-701e-4685-8ac0-ab4672169e99",
   "metadata": {},
   "source": [
    "## Create Table 3 - SFR's dual updates are fast and effective"
   ]
  },
  {
   "cell_type": "code",
   "execution_count": 6,
   "id": "2d2cdae6-dda4-4cfd-8450-ffbb91d1c4b7",
   "metadata": {},
   "outputs": [
    {
     "name": "stdout",
     "output_type": "stream",
     "text": [
      "\\begin{tabular}{l|l|ll|l|ll}\n",
      "\\toprule\n",
      " & \\multicolumn{3}{c|}{NLPD $\\downarrow$} & \\multicolumn{3}{c|}{Time (s) $\\downarrow$} \\\\\n",
      " & Train w. $\\mathcal{D}_1$ & Updates w. $\\mathcal{D}_2$ (Ours) & Retrain w. $\\mathcal{D}_1 \\cup \\mathcal{D}_2$ & Train w. $\\mathcal{D}_1$ & Updates w. $\\mathcal{D}_2$ (Ours) & Retrain w. $\\mathcal{D}_1 \\cup \\mathcal{D}_2$ \\\\\n",
      "\\midrule\n",
      "\\sc Airfoil & \\val{0.60}{0.02} & \\val{0.50}{0.02} & \\val{0.47}{0.03} & \\valtime{19.65}{0.99} & \\valtime{0.04}{0.00} & \\valtime{18.22}{2.27} \\\\\n",
      "\\sc Boston & \\val{0.23}{0.01} & \\val{0.16}{0.02} & \\val{0.13}{0.02} & \\valtime{11.45}{1.93} & \\valtime{0.02}{0.00} & \\valtime{7.48}{0.67} \\\\\n",
      "\\sc Protein & \\val{0.42}{0.01} & \\val{0.15}{0.01} & \\val{0.14}{0.00} & \\valtime{30.17}{8.62} & \\valtime{0.82}{0.06} & \\valtime{30.61}{6.27} \\\\\n",
      "\\bottomrule\n",
      "\\end{tabular}\n",
      "\n"
     ]
    },
    {
     "data": {
      "text/html": [
       "<div>\n",
       "<style scoped>\n",
       "    .dataframe tbody tr th:only-of-type {\n",
       "        vertical-align: middle;\n",
       "    }\n",
       "\n",
       "    .dataframe tbody tr th {\n",
       "        vertical-align: top;\n",
       "    }\n",
       "\n",
       "    .dataframe thead tr th {\n",
       "        text-align: left;\n",
       "    }\n",
       "</style>\n",
       "<table border=\"1\" class=\"dataframe\">\n",
       "  <thead>\n",
       "    <tr>\n",
       "      <th></th>\n",
       "      <th colspan=\"3\" halign=\"left\">NLPD $\\downarrow$</th>\n",
       "      <th colspan=\"3\" halign=\"left\">Time (s) $\\downarrow$</th>\n",
       "    </tr>\n",
       "    <tr>\n",
       "      <th></th>\n",
       "      <th>Train w. $\\mathcal{D}_1$</th>\n",
       "      <th>Updates w. $\\mathcal{D}_2$ (Ours)</th>\n",
       "      <th>Retrain w. $\\mathcal{D}_1 \\cup \\mathcal{D}_2$</th>\n",
       "      <th>Train w. $\\mathcal{D}_1$</th>\n",
       "      <th>Updates w. $\\mathcal{D}_2$ (Ours)</th>\n",
       "      <th>Retrain w. $\\mathcal{D}_1 \\cup \\mathcal{D}_2$</th>\n",
       "    </tr>\n",
       "  </thead>\n",
       "  <tbody>\n",
       "    <tr>\n",
       "      <th>\\sc Airfoil</th>\n",
       "      <td>\\val{0.60}{0.02}</td>\n",
       "      <td>\\val{0.50}{0.02}</td>\n",
       "      <td>\\val{0.47}{0.03}</td>\n",
       "      <td>\\valtime{19.65}{0.99}</td>\n",
       "      <td>\\valtime{0.04}{0.00}</td>\n",
       "      <td>\\valtime{18.22}{2.27}</td>\n",
       "    </tr>\n",
       "    <tr>\n",
       "      <th>\\sc Boston</th>\n",
       "      <td>\\val{0.23}{0.01}</td>\n",
       "      <td>\\val{0.16}{0.02}</td>\n",
       "      <td>\\val{0.13}{0.02}</td>\n",
       "      <td>\\valtime{11.45}{1.93}</td>\n",
       "      <td>\\valtime{0.02}{0.00}</td>\n",
       "      <td>\\valtime{7.48}{0.67}</td>\n",
       "    </tr>\n",
       "    <tr>\n",
       "      <th>\\sc Protein</th>\n",
       "      <td>\\val{0.42}{0.01}</td>\n",
       "      <td>\\val{0.15}{0.01}</td>\n",
       "      <td>\\val{0.14}{0.00}</td>\n",
       "      <td>\\valtime{30.17}{8.62}</td>\n",
       "      <td>\\valtime{0.82}{0.06}</td>\n",
       "      <td>\\valtime{30.61}{6.27}</td>\n",
       "    </tr>\n",
       "  </tbody>\n",
       "</table>\n",
       "</div>"
      ],
      "text/plain": [
       "                   NLPD $\\downarrow$                                    \\\n",
       "            Train w. $\\mathcal{D}_1$ Updates w. $\\mathcal{D}_2$ (Ours)   \n",
       "\\sc Airfoil         \\val{0.60}{0.02}                  \\val{0.50}{0.02}   \n",
       "\\sc Boston          \\val{0.23}{0.01}                  \\val{0.16}{0.02}   \n",
       "\\sc Protein         \\val{0.42}{0.01}                  \\val{0.15}{0.01}   \n",
       "\n",
       "                                                           \\\n",
       "            Retrain w. $\\mathcal{D}_1 \\cup \\mathcal{D}_2$   \n",
       "\\sc Airfoil                              \\val{0.47}{0.03}   \n",
       "\\sc Boston                               \\val{0.13}{0.02}   \n",
       "\\sc Protein                              \\val{0.14}{0.00}   \n",
       "\n",
       "               Time (s) $\\downarrow$                                    \\\n",
       "            Train w. $\\mathcal{D}_1$ Updates w. $\\mathcal{D}_2$ (Ours)   \n",
       "\\sc Airfoil    \\valtime{19.65}{0.99}              \\valtime{0.04}{0.00}   \n",
       "\\sc Boston     \\valtime{11.45}{1.93}              \\valtime{0.02}{0.00}   \n",
       "\\sc Protein    \\valtime{30.17}{8.62}              \\valtime{0.82}{0.06}   \n",
       "\n",
       "                                                           \n",
       "            Retrain w. $\\mathcal{D}_1 \\cup \\mathcal{D}_2$  \n",
       "\\sc Airfoil                         \\valtime{18.22}{2.27}  \n",
       "\\sc Boston                           \\valtime{7.48}{0.67}  \n",
       "\\sc Protein                         \\valtime{30.61}{6.27}  "
      ]
     },
     "execution_count": 6,
     "metadata": {},
     "output_type": "execute_result"
    }
   ],
   "source": [
    "def format_time_mean_pm_std(row):\n",
    "    mean = f\"{row['time_mean']:.2f}\"\n",
    "    std = f\"{(row['time_std']):.2f}\"\n",
    "    return \"\\\\valtime{\" + mean + \"}{\" + std + \"}\"\n",
    "\n",
    "def format_nlpd_mean_pm_std(row):\n",
    "    mean = f\"{row['nlpd_mean']:.2f}\"\n",
    "    std = f\"{(row['nlpd_std']):.2f}\"\n",
    "    return \"\\\\val{\" + mean + \"}{\" + std + \"}\"\n",
    "\n",
    "def create_dual_updates_table(df):\n",
    "    # Only keep models we want in table (i.e. remove NN MAP)\n",
    "    df = df[df[\"model\"].isin([\"SFR (GP)\"])]\n",
    "    \n",
    "    # Only keep training methods we want\n",
    "    df = df[df[\"method\"].isin([\"Train D1\", \"Train D1 -> Update D2\", \"Train D1+D2\"])]\n",
    "\n",
    "    # Calculatet mean/std of NLPD/time over 5 seeds\n",
    "    df_with_stats = (\n",
    "        df.groupby([\"dataset\", \"method\"])\n",
    "        .agg(\n",
    "            nlpd_mean=(\"nlpd\", \"mean\"),\n",
    "            nlpd_std=(\"nlpd\", \"std\"),\n",
    "            time_mean=(\"time\", \"mean\"),\n",
    "            time_std=(\"time\", \"std\"),\n",
    "            time_count=(\"time\", \"count\"),\n",
    "        )\n",
    "        .reset_index()\n",
    "    )\n",
    "\n",
    "    # Add columns with latex formatted mean +/- std\n",
    "    df_with_stats[\"nlpd_mean_pm_std\"] = df_with_stats.apply(format_nlpd_mean_pm_std, axis=1)\n",
    "    df_with_stats[\"time_mean_pm_std\"] = df_with_stats.apply(format_time_mean_pm_std, axis=1)\n",
    "    # return df_with_stats\n",
    "\n",
    "    # Format the table\n",
    "    updates_table = df_with_stats.pivot(\n",
    "        index=\"dataset\",\n",
    "        # index=[\"dataset\", \"N\", \"D\", \"C\"],\n",
    "        columns=\"method\",\n",
    "        values=[\"nlpd_mean_pm_std\", \"time_mean_pm_std\"],\n",
    "    #     values=\"nlpd_mean_pm_std\",\n",
    "    )\n",
    "    updates_table.index.names = [None]\n",
    "    updates_table.columns.names = [None, None]\n",
    "\n",
    "    # Rename the columns\n",
    "    updates_table.rename(columns={\"nlpd_mean_pm_std\": \"NLPD $\\downarrow$\", \n",
    "                              \"time_mean_pm_std\": \"Time (s) $\\downarrow$\",\n",
    "                              \"Train D1\": \"Train w. $\\mathcal{D}_1$\", \n",
    "                              \"Train D1 -> Update D2\": \"Updates w. $\\mathcal{D}_2$ (Ours)\", \n",
    "                              \"Train D1+D2\": \"Retrain w. $\\mathcal{D}_1 \\cup \\mathcal{D}_2$\",\n",
    "                              \"method\": \" \"\n",
    "                              }, inplace=True)\n",
    "    # Rename the data sets\n",
    "    updates_table.rename(index={\"boston\": \"\\sc Boston\",\n",
    "                            \"airfoil\": \"\\sc Airfoil\",\n",
    "                            \"protein\": \"\\sc Protein\",\n",
    "                            \"method\": \"\",\n",
    "                           }, inplace=True)\n",
    "\n",
    "    print(updates_table.to_latex(column_format=\"l|l|ll|l|ll\", escape=False, multicolumn_format=\"c|\"))\n",
    "    with open(\"./tabs/dual_updates_table.tex\", \"w\") as file:\n",
    "        file.write(\n",
    "            updates_table.to_latex(column_format=\"l|l|ll|l|ll\", escape=False, multicolumn_format=\"c|\")\n",
    "        )\n",
    "    return updates_table\n",
    " \n",
    "create_dual_updates_table(df)"
   ]
  },
  {
   "cell_type": "code",
   "execution_count": null,
   "id": "692ffcf2-6824-42b1-814a-032c890b0ba8",
   "metadata": {},
   "outputs": [],
   "source": []
  }
 ],
 "metadata": {
  "kernelspec": {
   "display_name": "Python 3 (ipykernel)",
   "language": "python",
   "name": "python3"
  },
  "language_info": {
   "codemirror_mode": {
    "name": "ipython",
    "version": 3
   },
   "file_extension": ".py",
   "mimetype": "text/x-python",
   "name": "python",
   "nbconvert_exporter": "python",
   "pygments_lexer": "ipython3",
   "version": "3.9.13"
  }
 },
 "nbformat": 4,
 "nbformat_minor": 5
}
